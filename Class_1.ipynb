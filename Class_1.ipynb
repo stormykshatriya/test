{
 "cells": [
  {
   "cell_type": "markdown",
   "id": "6c63bcf0",
   "metadata": {},
   "source": [
    "##### Headline"
   ]
  },
  {
   "cell_type": "markdown",
   "id": "d685176a",
   "metadata": {},
   "source": [
    "# Title"
   ]
  },
  {
   "cell_type": "markdown",
   "id": "6fcfac46",
   "metadata": {
    "scrolled": true
   },
   "source": [
    "### Headline"
   ]
  },
  {
   "cell_type": "markdown",
   "id": "484118f7",
   "metadata": {},
   "source": [
    "#### Headline"
   ]
  },
  {
   "cell_type": "markdown",
   "id": "0f792490",
   "metadata": {},
   "source": [
    "## Headline"
   ]
  }
 ],
 "metadata": {
  "kernelspec": {
   "display_name": "Python 3 (ipykernel)",
   "language": "python",
   "name": "python3"
  },
  "language_info": {
   "codemirror_mode": {
    "name": "ipython",
    "version": 3
   },
   "file_extension": ".py",
   "mimetype": "text/x-python",
   "name": "python",
   "nbconvert_exporter": "python",
   "pygments_lexer": "ipython3",
   "version": "3.9.12"
  }
 },
 "nbformat": 4,
 "nbformat_minor": 5
}
